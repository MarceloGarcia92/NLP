{
 "cells": [
  {
   "cell_type": "code",
   "execution_count": 4,
   "metadata": {},
   "outputs": [],
   "source": [
    "import os\n",
    "\n",
    "from nltk_functions.preProcess import TFIDFVectorization\n",
    "\n",
    "from sklearn.cluster import KMeans\n",
    "from sklearn.metrics import silhouette_score"
   ]
  },
  {
   "cell_type": "code",
   "execution_count": null,
   "metadata": {},
   "outputs": [],
   "source": [
    "path = 'BBC News Summary/News Articles'\n",
    "text = list()\n",
    "\n",
    "for folder in os.listdir(path):\n",
    "    if os.path.isdir(f'{path}/{folder}'):\n",
    "        print(folder)\n",
    "        for file in os.listdir(f'{path}/{folder}'):\n",
    "            if folder == 'sport':\n",
    "                with open(f'{path}/{folder}/{file}', 'r', encoding= 'unicode_escape') as file:\n",
    "                    txt = file.read()\n",
    "                    text.append(txt)\n",
    "            else:\n",
    "                with open(f'{path}/{folder}/{file}', 'r') as file:\n",
    "                    txt = file.read()\n",
    "                    text.append(txt)"
   ]
  },
  {
   "cell_type": "code",
   "execution_count": null,
   "metadata": {},
   "outputs": [],
   "source": [
    "df_v = TFIDFVectorization(text)\n",
    "km_v = KMeans(n_clusters=5)\n",
    "y_pred = km_v.fit_predict(df_v)"
   ]
  },
  {
   "cell_type": "code",
   "execution_count": null,
   "metadata": {},
   "outputs": [],
   "source": [
    "score_v = silhouette_score(df_v, km_v.labels_, metric='euclidean')"
   ]
  }
 ],
 "metadata": {
  "kernelspec": {
   "display_name": "Python 3",
   "language": "python",
   "name": "python3"
  },
  "language_info": {
   "codemirror_mode": {
    "name": "ipython",
    "version": 3
   },
   "file_extension": ".py",
   "mimetype": "text/x-python",
   "name": "python",
   "nbconvert_exporter": "python",
   "pygments_lexer": "ipython3",
   "version": "3.10.9"
  },
  "orig_nbformat": 4
 },
 "nbformat": 4,
 "nbformat_minor": 2
}
